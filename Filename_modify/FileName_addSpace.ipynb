{
 "cells": [
  {
   "cell_type": "code",
   "execution_count": 1,
   "id": "82aebeca",
   "metadata": {},
   "outputs": [],
   "source": [
    "import os"
   ]
  },
  {
   "cell_type": "code",
   "execution_count": 2,
   "id": "94df8ea2",
   "metadata": {},
   "outputs": [],
   "source": [
    "# 取出名称\n",
    "def rename_add_1(path):\n",
    "    file_list = os.listdir(path)\n",
    "    makeup_file = {}\n",
    "    for file in file_list:\n",
    "        absolute_file = path + \"/\" + file\n",
    "        forward_name = os.path.splitext(file)[0].replace(\" \", \"\")\n",
    "        forward_name = add_space(forward_name)\n",
    "        back_name = os.path.splitext(file)[1]\n",
    "        # makeup_file[forward_name] = os.path.splitext(file)[1]\n",
    "        # print(file,\"对应:\", makeup_file)\n",
    "        old_name = absolute_file\n",
    "        \n",
    "        if os.path.isfile(absolute_file):\n",
    "            if file.endswith(\".py\") or file.endswith(\".exe\") or file.endswith(\".txt\") or file.endswith(\".ipynb\"):\n",
    "                continue\n",
    "            old_name = absolute_file\n",
    "            new_name = path + \"/\" + forward_name + back_name\n",
    "            # print(old_name, \"对应\", new_name)\n",
    "            os.rename(old_name, new_name)\n",
    "            print(\"新文件名：\", new_name)\n",
    "        else:\n",
    "            rename_add_1(absolute_file)"
   ]
  },
  {
   "cell_type": "code",
   "execution_count": 3,
   "id": "a0d38af0",
   "metadata": {},
   "outputs": [
    {
     "data": {
      "text/plain": [
       "\"\\nif __name__ == '__main__':\\n    File_name = input()\\n    after_name = sub_space3(File_name)\\n    after_name2 = add_space(after_name)\\n    print(after_name, after_name2)\\n\""
      ]
     },
     "execution_count": 3,
     "metadata": {},
     "output_type": "execute_result"
    }
   ],
   "source": [
    "# 向名称里添加空格\n",
    "\n",
    "#引入正则\n",
    "import re\n",
    "\n",
    "#先去除空格\n",
    "#str.replace\n",
    "def sub_space1(name):\n",
    "    newName = name.replace(\" \", \"\")\n",
    "    return newName\n",
    "\n",
    "#str.splite & join\n",
    "def sub_space2(name):\n",
    "    newName = \"\".join(name.split())\n",
    "    return newName\n",
    "\n",
    "#正则\n",
    "def sub_space3(name):\n",
    "    pattern = re.compile(r'\\s+')\n",
    "    newName = re.sub(pattern, '', name)\n",
    "    return newName\n",
    "\n",
    "#加入空格\n",
    "#数字和英文跳过\n",
    "def add_space(name):\n",
    "    newName = ' '.join(name)\n",
    "    return newName\n",
    "\n",
    "\"\"\"\n",
    "if __name__ == '__main__':\n",
    "    File_name = input()\n",
    "    after_name = sub_space3(File_name)\n",
    "    after_name2 = add_space(after_name)\n",
    "    print(after_name, after_name2)\n",
    "\"\"\""
   ]
  },
  {
   "cell_type": "code",
   "execution_count": 4,
   "id": "177500f2",
   "metadata": {},
   "outputs": [
    {
     "name": "stdout",
     "output_type": "stream",
     "text": [
      "J:\\欧美整理\\上传\n",
      "新文件名： J:\\欧美整理\\上传/B F F S - V e n u s V a l k y r i e - 空 姐 淫 乱 派 对 ( 群 交 , 美 腿 , 制 服 ).mp4\n",
      "新文件名： J:\\欧美整理\\上传/B i t e - 最 新 流 出 洋 帅 哥 康 爱 福 双 飞 两 个 逼 逼 粉 嫩 的 国 人 妹 纸 叠 罗 汉 轮 流 草 7 2 0 P 高 清 版.mp4\n",
      "新文件名： J:\\欧美整理\\上传/B l a c k e d - A l e c i a F o x - 假 期 淫 乱 大 冒 险 ( 黑 白 配 , 肛 交 ).mp4\n",
      "新文件名： J:\\欧美整理\\上传/S e x A r t - S k y e B l u e - 漫 步 雲 端 ( 唯 美 , 爆 乳 ).mp4\n",
      "新文件名： J:\\欧美整理\\上传/S i a S i b e r i a - 小 姐 姐 c o s p l a y 弗 莱 迪 入 梦 找 男 人 肛 交 白 虎 穴 水 嫩 水 嫩.mp4\n",
      "新文件名： J:\\欧美整理\\上传/【 M i n i D i v a 】 最 新 P 站 极 品 爆 乳 丰 臀 嫩 模 M I n i 收 费 新 作 - 爆 乳 少 女 浴 室 做 爱 他 在 浴 室 把 我 操 翻 了 还 射 在 我 爆 乳 上 高 清 7 2 0 P 原 版.mp4\n",
      "新文件名： J:\\欧美整理\\上传/【 M i n i D i v a 】 最 新 P 站 极 品 爆 乳 丰 臀 素 人 嫩 模 M I n i D i v a 收 费 新 作 - 完 美 巨 乳 美 少 女 激 情 做 早 “ 操 ” 无 套 爆 操 怒 射 _ 0 4 1 2.mp4\n",
      "新文件名： J:\\欧美整理\\上传/卡 哇 伊 巨 乳 馒 头 逼 美 眉 被 大 鸡 巴 疯 狂 抽 插 无 毛 嫩 逼 真 诱 人 叫 声 浪 荡 ～ 7 2 0 P 高 清 精 彩.ts\n"
     ]
    }
   ],
   "source": [
    "if __name__ == '__main__':\n",
    "    # 获取当前程序所在的文件路径\n",
    "    # path = os.getcwd()\n",
    "    path = input()\n",
    "    \n",
    "    # 给当前路径下的所有文件名后边都+1\n",
    "    rename_add_1(path)\n",
    "\n",
    "    # 把当前路径下的所有文件名后边的1去掉\n",
    "    # rename_sub_1(path)"
   ]
  },
  {
   "cell_type": "code",
   "execution_count": null,
   "id": "e8ac8120",
   "metadata": {},
   "outputs": [],
   "source": []
  }
 ],
 "metadata": {
  "kernelspec": {
   "display_name": "Python 3 (ipykernel)",
   "language": "python",
   "name": "python3"
  },
  "language_info": {
   "codemirror_mode": {
    "name": "ipython",
    "version": 3
   },
   "file_extension": ".py",
   "mimetype": "text/x-python",
   "name": "python",
   "nbconvert_exporter": "python",
   "pygments_lexer": "ipython3",
   "version": "3.10.2"
  }
 },
 "nbformat": 4,
 "nbformat_minor": 5
}
